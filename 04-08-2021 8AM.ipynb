{
 "cells": [
  {
   "cell_type": "code",
   "execution_count": 28,
   "id": "0297f9e6",
   "metadata": {},
   "outputs": [
    {
     "name": "stdout",
     "output_type": "stream",
     "text": [
      "[50, 49, 53, 38, 46, 55, 61, 45, 50, 51]\n"
     ]
    }
   ],
   "source": [
    "import numpy as np \n",
    "result = []\n",
    "for day in range(1,11):\n",
    "    x = np.random.random_sample(100)\n",
    "    result.append(np.sum(x>=0.5))\n",
    "print(result)"
   ]
  },
  {
   "cell_type": "code",
   "execution_count": 30,
   "id": "75d9a31e",
   "metadata": {},
   "outputs": [],
   "source": [
    "import pandas as pd"
   ]
  },
  {
   "cell_type": "code",
   "execution_count": 46,
   "id": "3b618da6",
   "metadata": {},
   "outputs": [
    {
     "data": {
      "text/plain": [
       "pandas.core.frame.DataFrame"
      ]
     },
     "execution_count": 46,
     "metadata": {},
     "output_type": "execute_result"
    }
   ],
   "source": [
    "cars = pd.read_csv('c:\\\\data\\\\usedcars.csv')\n",
    "cars.shape\n",
    "type(cars)"
   ]
  },
  {
   "cell_type": "code",
   "execution_count": 45,
   "id": "d37e6407",
   "metadata": {},
   "outputs": [
    {
     "data": {
      "text/html": [
       "<div>\n",
       "<style scoped>\n",
       "    .dataframe tbody tr th:only-of-type {\n",
       "        vertical-align: middle;\n",
       "    }\n",
       "\n",
       "    .dataframe tbody tr th {\n",
       "        vertical-align: top;\n",
       "    }\n",
       "\n",
       "    .dataframe thead th {\n",
       "        text-align: right;\n",
       "    }\n",
       "</style>\n",
       "<table border=\"1\" class=\"dataframe\">\n",
       "  <thead>\n",
       "    <tr style=\"text-align: right;\">\n",
       "      <th></th>\n",
       "      <th>year</th>\n",
       "      <th>model</th>\n",
       "      <th>price</th>\n",
       "      <th>mileage</th>\n",
       "      <th>color</th>\n",
       "      <th>transmission</th>\n",
       "    </tr>\n",
       "  </thead>\n",
       "  <tbody>\n",
       "    <tr>\n",
       "      <th>8</th>\n",
       "      <td>2011</td>\n",
       "      <td>SES</td>\n",
       "      <td>16995</td>\n",
       "      <td>32655</td>\n",
       "      <td>Silver</td>\n",
       "      <td>AUTO</td>\n",
       "    </tr>\n",
       "    <tr>\n",
       "      <th>91</th>\n",
       "      <td>2009</td>\n",
       "      <td>SES</td>\n",
       "      <td>12990</td>\n",
       "      <td>45813</td>\n",
       "      <td>Silver</td>\n",
       "      <td>AUTO</td>\n",
       "    </tr>\n",
       "    <tr>\n",
       "      <th>33</th>\n",
       "      <td>2011</td>\n",
       "      <td>SEL</td>\n",
       "      <td>14992</td>\n",
       "      <td>18948</td>\n",
       "      <td>Black</td>\n",
       "      <td>AUTO</td>\n",
       "    </tr>\n",
       "    <tr>\n",
       "      <th>50</th>\n",
       "      <td>2010</td>\n",
       "      <td>SE</td>\n",
       "      <td>14299</td>\n",
       "      <td>36447</td>\n",
       "      <td>Black</td>\n",
       "      <td>AUTO</td>\n",
       "    </tr>\n",
       "    <tr>\n",
       "      <th>130</th>\n",
       "      <td>2007</td>\n",
       "      <td>SE</td>\n",
       "      <td>8996</td>\n",
       "      <td>48652</td>\n",
       "      <td>Silver</td>\n",
       "      <td>MANUAL</td>\n",
       "    </tr>\n",
       "    <tr>\n",
       "      <th>112</th>\n",
       "      <td>2005</td>\n",
       "      <td>SES</td>\n",
       "      <td>10995</td>\n",
       "      <td>69415</td>\n",
       "      <td>Blue</td>\n",
       "      <td>AUTO</td>\n",
       "    </tr>\n",
       "    <tr>\n",
       "      <th>145</th>\n",
       "      <td>2006</td>\n",
       "      <td>SES</td>\n",
       "      <td>6200</td>\n",
       "      <td>95000</td>\n",
       "      <td>Silver</td>\n",
       "      <td>AUTO</td>\n",
       "    </tr>\n",
       "    <tr>\n",
       "      <th>120</th>\n",
       "      <td>2010</td>\n",
       "      <td>SE</td>\n",
       "      <td>10717</td>\n",
       "      <td>64199</td>\n",
       "      <td>Black</td>\n",
       "      <td>AUTO</td>\n",
       "    </tr>\n",
       "    <tr>\n",
       "      <th>54</th>\n",
       "      <td>2010</td>\n",
       "      <td>SE</td>\n",
       "      <td>13997</td>\n",
       "      <td>15167</td>\n",
       "      <td>Black</td>\n",
       "      <td>MANUAL</td>\n",
       "    </tr>\n",
       "    <tr>\n",
       "      <th>45</th>\n",
       "      <td>2010</td>\n",
       "      <td>SES</td>\n",
       "      <td>14495</td>\n",
       "      <td>35894</td>\n",
       "      <td>Silver</td>\n",
       "      <td>AUTO</td>\n",
       "    </tr>\n",
       "  </tbody>\n",
       "</table>\n",
       "</div>"
      ],
      "text/plain": [
       "     year model  price  mileage   color transmission\n",
       "8    2011   SES  16995    32655  Silver         AUTO\n",
       "91   2009   SES  12990    45813  Silver         AUTO\n",
       "33   2011   SEL  14992    18948   Black         AUTO\n",
       "50   2010    SE  14299    36447   Black         AUTO\n",
       "130  2007    SE   8996    48652  Silver       MANUAL\n",
       "112  2005   SES  10995    69415    Blue         AUTO\n",
       "145  2006   SES   6200    95000  Silver         AUTO\n",
       "120  2010    SE  10717    64199   Black         AUTO\n",
       "54   2010    SE  13997    15167   Black       MANUAL\n",
       "45   2010   SES  14495    35894  Silver         AUTO"
      ]
     },
     "execution_count": 45,
     "metadata": {},
     "output_type": "execute_result"
    }
   ],
   "source": [
    "cars.sample(10)"
   ]
  },
  {
   "cell_type": "code",
   "execution_count": 47,
   "id": "52b3e432",
   "metadata": {},
   "outputs": [
    {
     "name": "stdout",
     "output_type": "stream",
     "text": [
      "<class 'pandas.core.frame.DataFrame'>\n",
      "RangeIndex: 150 entries, 0 to 149\n",
      "Data columns (total 6 columns):\n",
      " #   Column        Non-Null Count  Dtype \n",
      "---  ------        --------------  ----- \n",
      " 0   year          150 non-null    int64 \n",
      " 1   model         150 non-null    object\n",
      " 2   price         150 non-null    int64 \n",
      " 3   mileage       150 non-null    int64 \n",
      " 4   color         150 non-null    object\n",
      " 5   transmission  150 non-null    object\n",
      "dtypes: int64(3), object(3)\n",
      "memory usage: 7.2+ KB\n"
     ]
    }
   ],
   "source": [
    "cars.info()"
   ]
  },
  {
   "cell_type": "code",
   "execution_count": 52,
   "id": "fb9a3329",
   "metadata": {},
   "outputs": [
    {
     "data": {
      "text/plain": [
       "2010    49\n",
       "2009    42\n",
       "2011    16\n",
       "2008    14\n",
       "2007    11\n",
       "2006     6\n",
       "2000     3\n",
       "2004     3\n",
       "2005     2\n",
       "2001     1\n",
       "2002     1\n",
       "2003     1\n",
       "2012     1\n",
       "Name: year, dtype: int64"
      ]
     },
     "execution_count": 52,
     "metadata": {},
     "output_type": "execute_result"
    }
   ],
   "source": [
    "cars.year.value_counts()"
   ]
  },
  {
   "cell_type": "code",
   "execution_count": 53,
   "id": "56a51ad8",
   "metadata": {},
   "outputs": [
    {
     "data": {
      "text/plain": [
       "count       150.000000\n",
       "mean      44260.646667\n",
       "std       26982.104322\n",
       "min        4867.000000\n",
       "25%       27200.250000\n",
       "50%       36385.000000\n",
       "75%       55124.500000\n",
       "max      151479.000000\n",
       "Name: mileage, dtype: float64"
      ]
     },
     "execution_count": 53,
     "metadata": {},
     "output_type": "execute_result"
    }
   ],
   "source": [
    "cars.mileage.describe()"
   ]
  },
  {
   "cell_type": "code",
   "execution_count": 54,
   "id": "c695bf77",
   "metadata": {},
   "outputs": [
    {
     "data": {
      "text/plain": [
       "36385.0"
      ]
     },
     "execution_count": 54,
     "metadata": {},
     "output_type": "execute_result"
    }
   ],
   "source": [
    "cars.mileage.median()"
   ]
  },
  {
   "cell_type": "code",
   "execution_count": 55,
   "id": "0ce793bf",
   "metadata": {},
   "outputs": [
    {
     "data": {
      "image/png": "[encoded data removed]",
      "text/plain": [
       "<Figure size 432x288 with 1 Axes>"
      ]
     },
     "metadata": {
      "needs_background": "light"
     },
     "output_type": "display_data"
    }
   ],
   "source": [
    "_ = cars.plot.scatter('price',\"mileage\")"
   ]
  },
  {
   "cell_type": "code",
   "execution_count": 63,
   "id": "4973edfe",
   "metadata": {},
   "outputs": [
    {
     "data": {
      "text/plain": [
       "2"
      ]
     },
     "execution_count": 63,
     "metadata": {},
     "output_type": "execute_result"
    }
   ],
   "source": [
    "cars[['price']].ndim"
   ]
  },
  {
   "cell_type": "code",
   "execution_count": 68,
   "id": "6be675b8",
   "metadata": {},
   "outputs": [
    {
     "data": {
      "text/html": [
       "<div>\n",
       "<style scoped>\n",
       "    .dataframe tbody tr th:only-of-type {\n",
       "        vertical-align: middle;\n",
       "    }\n",
       "\n",
       "    .dataframe tbody tr th {\n",
       "        vertical-align: top;\n",
       "    }\n",
       "\n",
       "    .dataframe thead th {\n",
       "        text-align: right;\n",
       "    }\n",
       "</style>\n",
       "<table border=\"1\" class=\"dataframe\">\n",
       "  <thead>\n",
       "    <tr style=\"text-align: right;\">\n",
       "      <th></th>\n",
       "      <th>transmission</th>\n",
       "      <th>price</th>\n",
       "      <th>mileage</th>\n",
       "      <th>model</th>\n",
       "    </tr>\n",
       "  </thead>\n",
       "  <tbody>\n",
       "    <tr>\n",
       "      <th>0</th>\n",
       "      <td>AUTO</td>\n",
       "      <td>21992</td>\n",
       "      <td>7413</td>\n",
       "      <td>SEL</td>\n",
       "    </tr>\n",
       "    <tr>\n",
       "      <th>2</th>\n",
       "      <td>AUTO</td>\n",
       "      <td>19995</td>\n",
       "      <td>7351</td>\n",
       "      <td>SEL</td>\n",
       "    </tr>\n",
       "    <tr>\n",
       "      <th>4</th>\n",
       "      <td>AUTO</td>\n",
       "      <td>17500</td>\n",
       "      <td>8367</td>\n",
       "      <td>SE</td>\n",
       "    </tr>\n",
       "    <tr>\n",
       "      <th>6</th>\n",
       "      <td>AUTO</td>\n",
       "      <td>17000</td>\n",
       "      <td>27393</td>\n",
       "      <td>SEL</td>\n",
       "    </tr>\n",
       "    <tr>\n",
       "      <th>8</th>\n",
       "      <td>AUTO</td>\n",
       "      <td>16995</td>\n",
       "      <td>32655</td>\n",
       "      <td>SES</td>\n",
       "    </tr>\n",
       "    <tr>\n",
       "      <th>...</th>\n",
       "      <td>...</td>\n",
       "      <td>...</td>\n",
       "      <td>...</td>\n",
       "      <td>...</td>\n",
       "    </tr>\n",
       "    <tr>\n",
       "      <th>140</th>\n",
       "      <td>AUTO</td>\n",
       "      <td>6999</td>\n",
       "      <td>105714</td>\n",
       "      <td>SE</td>\n",
       "    </tr>\n",
       "    <tr>\n",
       "      <th>142</th>\n",
       "      <td>AUTO</td>\n",
       "      <td>6980</td>\n",
       "      <td>60161</td>\n",
       "      <td>SE</td>\n",
       "    </tr>\n",
       "    <tr>\n",
       "      <th>144</th>\n",
       "      <td>AUTO</td>\n",
       "      <td>6950</td>\n",
       "      <td>119720</td>\n",
       "      <td>SES</td>\n",
       "    </tr>\n",
       "    <tr>\n",
       "      <th>146</th>\n",
       "      <td>AUTO</td>\n",
       "      <td>5995</td>\n",
       "      <td>87003</td>\n",
       "      <td>SE</td>\n",
       "    </tr>\n",
       "    <tr>\n",
       "      <th>148</th>\n",
       "      <td>AUTO</td>\n",
       "      <td>4899</td>\n",
       "      <td>151479</td>\n",
       "      <td>SE</td>\n",
       "    </tr>\n",
       "  </tbody>\n",
       "</table>\n",
       "<p>75 rows × 4 columns</p>\n",
       "</div>"
      ],
      "text/plain": [
       "    transmission  price  mileage model\n",
       "0           AUTO  21992     7413   SEL\n",
       "2           AUTO  19995     7351   SEL\n",
       "4           AUTO  17500     8367    SE\n",
       "6           AUTO  17000    27393   SEL\n",
       "8           AUTO  16995    32655   SES\n",
       "..           ...    ...      ...   ...\n",
       "140         AUTO   6999   105714    SE\n",
       "142         AUTO   6980    60161    SE\n",
       "144         AUTO   6950   119720   SES\n",
       "146         AUTO   5995    87003    SE\n",
       "148         AUTO   4899   151479    SE\n",
       "\n",
       "[75 rows x 4 columns]"
      ]
     },
     "execution_count": 68,
     "metadata": {},
     "output_type": "execute_result"
    }
   ],
   "source": [
    "cars.iloc[::2,[5,2,3,1]]"
   ]
  },
  {
   "cell_type": "code",
   "execution_count": 72,
   "id": "916e76e4",
   "metadata": {},
   "outputs": [
    {
     "data": {
      "text/plain": [
       "(60, 4)"
      ]
     },
     "execution_count": 72,
     "metadata": {},
     "output_type": "execute_result"
    }
   ],
   "source": [
    "fruits = pd.read_csv(\"c:/data/fruits.csv\",names=['color','sphericity','wt','type'])\n",
    "fruits.shape"
   ]
  },
  {
   "cell_type": "code",
   "execution_count": 73,
   "id": "3b5e232c",
   "metadata": {},
   "outputs": [
    {
     "data": {
      "text/plain": [
       "Apple     30\n",
       "Orange    30\n",
       "Name: type, dtype: int64"
      ]
     },
     "execution_count": 73,
     "metadata": {},
     "output_type": "execute_result"
    }
   ],
   "source": [
    "fruits.type.value_counts()"
   ]
  }
 ],
 "metadata": {
  "kernelspec": {
   "display_name": "Python 3",
   "language": "python",
   "name": "python3"
  },
  "language_info": {
   "codemirror_mode": {
    "name": "ipython",
    "version": 3
   },
   "file_extension": ".py",
   "mimetype": "text/x-python",
   "name": "python",
   "nbconvert_exporter": "python",
   "pygments_lexer": "ipython3",
   "version": "3.8.8"
  }
 },
 "nbformat": 4,
 "nbformat_minor": 5
}
